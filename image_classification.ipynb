{
 "cells": [
  {
   "cell_type": "markdown",
   "metadata": {
    "collapsed": true
   },
   "source": [
    "# Image Classification\n",
    "In this project, you'll classify images from the [CIFAR-10 dataset](https://www.cs.toronto.edu/~kriz/cifar.html).  The dataset consists of airplanes, dogs, cats, and other objects. You'll preprocess the images, then train a convolutional neural network on all the samples. The images need to be normalized and the labels need to be one-hot encoded.  You'll get to apply what you learned and build a convolutional, max pooling, dropout, and fully connected layers.  At the end, you'll get to see your neural network's predictions on the sample images.\n",
    "## Get the Data\n",
    "Run the following cell to download the [CIFAR-10 dataset for python](https://www.cs.toronto.edu/~kriz/cifar-10-python.tar.gz)."
   ]
  },
  {
   "cell_type": "code",
   "execution_count": 46,
   "metadata": {},
   "outputs": [
    {
     "name": "stdout",
     "output_type": "stream",
     "text": [
      "All files found!\n"
     ]
    }
   ],
   "source": [
    "\"\"\"\n",
    "DON'T MODIFY ANYTHING IN THIS CELL THAT IS BELOW THIS LINE\n",
    "\"\"\"\n",
    "from urllib.request import urlretrieve\n",
    "from os.path import isfile, isdir\n",
    "from tqdm import tqdm\n",
    "import problem_unittests as tests\n",
    "import tarfile\n",
    "\n",
    "cifar10_dataset_folder_path = 'cifar-10-batches-py'\n",
    "\n",
    "class DLProgress(tqdm):\n",
    "    last_block = 0\n",
    "\n",
    "    def hook(self, block_num=1, block_size=1, total_size=None):\n",
    "        self.total = total_size\n",
    "        self.update((block_num - self.last_block) * block_size)\n",
    "        self.last_block = block_num\n",
    "\n",
    "if not isfile('cifar-10-python.tar.gz'):\n",
    "    with DLProgress(unit='B', unit_scale=True, miniters=1, desc='CIFAR-10 Dataset') as pbar:\n",
    "        urlretrieve(\n",
    "            'https://www.cs.toronto.edu/~kriz/cifar-10-python.tar.gz',\n",
    "            'cifar-10-python.tar.gz',\n",
    "            pbar.hook)\n",
    "\n",
    "if not isdir(cifar10_dataset_folder_path):\n",
    "    with tarfile.open('cifar-10-python.tar.gz') as tar:\n",
    "        tar.extractall()\n",
    "        tar.close()\n",
    "\n",
    "\n",
    "tests.test_folder_path(cifar10_dataset_folder_path)"
   ]
  },
  {
   "cell_type": "markdown",
   "metadata": {},
   "source": [
    "## Explore the Data\n",
    "The dataset is broken into batches to prevent your machine from running out of memory.  The CIFAR-10 dataset consists of 5 batches, named `data_batch_1`, `data_batch_2`, etc.. Each batch contains the labels and images that are one of the following:\n",
    "* airplane\n",
    "* automobile\n",
    "* bird\n",
    "* cat\n",
    "* deer\n",
    "* dog\n",
    "* frog\n",
    "* horse\n",
    "* ship\n",
    "* truck\n",
    "\n",
    "Understanding a dataset is part of making predictions on the data.  Play around with the code cell below by changing the `batch_id` and `sample_id`. The `batch_id` is the id for a batch (1-5). The `sample_id` is the id for a image and label pair in the batch.\n",
    "\n",
    "Ask yourself \"What are all possible labels?\", \"What is the range of values for the image data?\", \"Are the labels in order or random?\".  Answers to questions like these will help you preprocess the data and end up with better predictions."
   ]
  },
  {
   "cell_type": "code",
   "execution_count": 47,
   "metadata": {},
   "outputs": [
    {
     "name": "stdout",
     "output_type": "stream",
     "text": [
      "\n",
      "Stats of batch 5:\n",
      "Samples: 10000\n",
      "Label Counts: {0: 1014, 1: 1014, 2: 952, 3: 1016, 4: 997, 5: 1025, 6: 980, 7: 977, 8: 1003, 9: 1022}\n",
      "First 20 Labels: [1, 8, 5, 1, 5, 7, 4, 3, 8, 2, 7, 2, 0, 1, 5, 9, 6, 2, 0, 8]\n",
      "\n",
      "Example of Image 12:\n",
      "Image - Min Value: 47 Max Value: 255\n",
      "Image - Shape: (32, 32, 3)\n",
      "Label - Label Id: 0 Name: airplane\n"
     ]
    },
    {
     "data": {
      "image/png": "[encoded data removed]",
      "text/plain": [
       "<Figure size 432x288 with 1 Axes>"
      ]
     },
     "metadata": {
      "image/png": {
       "height": 250,
       "width": 253
      }
     },
     "output_type": "display_data"
    }
   ],
   "source": [
    "%matplotlib inline\n",
    "%config InlineBackend.figure_format = 'retina'\n",
    "\n",
    "import helper\n",
    "import numpy as np\n",
    "\n",
    "# Explore the dataset\n",
    "batch_id = 5\n",
    "sample_id = 12\n",
    "helper.display_stats(cifar10_dataset_folder_path, batch_id, sample_id)"
   ]
  },
  {
   "cell_type": "markdown",
   "metadata": {},
   "source": [
    "## Implement Preprocess Functions\n",
    "### Normalize\n",
    "In the cell below, implement the `normalize` function to take in image data, `x`, and return it as a normalized Numpy array. The values should be in the range of 0 to 1, inclusive.  The return object should be the same shape as `x`."
   ]
  },
  {
   "cell_type": "code",
   "execution_count": 48,
   "metadata": {},
   "outputs": [
    {
     "name": "stdout",
     "output_type": "stream",
     "text": [
      "Tests Passed\n"
     ]
    }
   ],
   "source": [
    "def normalize(x):\n",
    "    \"\"\"\n",
    "    Normalize a list of sample image data in the range of 0 to 1\n",
    "    : x: List of image data.  The image shape is (32, 32, 3)\n",
    "    : return: Numpy array of normalize data\n",
    "    \"\"\"\n",
    "    \n",
    "    return x/255\n",
    "\n",
    "\n",
    "\"\"\"\n",
    "DON'T MODIFY ANYTHING IN THIS CELL THAT IS BELOW THIS LINE\n",
    "\"\"\"\n",
    "tests.test_normalize(normalize)"
   ]
  },
  {
   "cell_type": "markdown",
   "metadata": {},
   "source": [
    "### One-hot encode\n",
    "Just like the previous code cell, you'll be implementing a function for preprocessing.  This time, you'll implement the `one_hot_encode` function. The input, `x`, are a list of labels.  Implement the function to return the list of labels as One-Hot encoded Numpy array.  The possible values for labels are 0 to 9. The one-hot encoding function should return the same encoding for each value between each call to `one_hot_encode`.  Make sure to save the map of encodings outside the function.\n",
    "\n",
    "**Hint:**\n",
    "\n",
    "Look into LabelBinarizer in the preprocessing module of sklearn."
   ]
  },
  {
   "cell_type": "code",
   "execution_count": 49,
   "metadata": {},
   "outputs": [
    {
     "name": "stdout",
     "output_type": "stream",
     "text": [
      "Tests Passed\n"
     ]
    }
   ],
   "source": [
    "def one_hot_encode(x):\n",
    "    \"\"\"\n",
    "    One hot encode a list of sample labels. Return a one-hot encoded vector for each label.\n",
    "    : x: List of sample Labels\n",
    "    : return: Numpy array of one-hot encoded labels\n",
    "    \"\"\"\n",
    "    \n",
    "    return np.eye(10)[x]\n",
    "\n",
    "\n",
    "\"\"\"\n",
    "DON'T MODIFY ANYTHING IN THIS CELL THAT IS BELOW THIS LINE\n",
    "\"\"\"\n",
    "tests.test_one_hot_encode(one_hot_encode)"
   ]
  },
  {
   "cell_type": "markdown",
   "metadata": {},
   "source": [
    "### Randomize Data\n",
    "As you saw from exploring the data above, the order of the samples are randomized.  It doesn't hurt to randomize it again, but you don't need to for this dataset."
   ]
  },
  {
   "cell_type": "markdown",
   "metadata": {},
   "source": [
    "## Preprocess all the data and save it\n",
    "Running the code cell below will preprocess all the CIFAR-10 data and save it to file. The code below also uses 10% of the training data for validation."
   ]
  },
  {
   "cell_type": "code",
   "execution_count": 50,
   "metadata": {},
   "outputs": [],
   "source": [
    "\"\"\"\n",
    "DON'T MODIFY ANYTHING IN THIS CELL\n",
    "\"\"\"\n",
    "# Preprocess Training, Validation, and Testing Data\n",
    "helper.preprocess_and_save_data(cifar10_dataset_folder_path, normalize, one_hot_encode)"
   ]
  },
  {
   "cell_type": "markdown",
   "metadata": {},
   "source": [
    "# Check Point\n",
    "This is your first checkpoint.  If you ever decide to come back to this notebook or have to restart the notebook, you can start from here.  The preprocessed data has been saved to disk."
   ]
  },
  {
   "cell_type": "code",
   "execution_count": 51,
   "metadata": {},
   "outputs": [],
   "source": [
    "\"\"\"\n",
    "DON'T MODIFY ANYTHING IN THIS CELL\n",
    "\"\"\"\n",
    "import pickle\n",
    "import problem_unittests as tests\n",
    "import helper\n",
    "\n",
    "# Load the Preprocessed Validation data\n",
    "valid_features, valid_labels = pickle.load(open('preprocess_validation.p', mode='rb'))"
   ]
  },
  {
   "cell_type": "markdown",
   "metadata": {},
   "source": [
    "## Build the network\n",
    "For the neural network, you'll build each layer into a function.  Most of the code you've seen has been outside of functions. To test your code more thoroughly, we require that you put each layer in a function.  This allows us to give you better feedback and test for simple mistakes using our unittests before you submit your project.\n",
    "\n",
    ">**Note:** If you're finding it hard to dedicate enough time for this course each week, we've provided a small shortcut to this part of the project. In the next couple of problems, you'll have the option to use classes from the [TensorFlow Layers](https://www.tensorflow.org/api_docs/python/tf/layers) or [TensorFlow Layers (contrib)](https://www.tensorflow.org/api_guides/python/contrib.layers) packages to build each layer, except the layers you build in the \"Convolutional and Max Pooling Layer\" section.  TF Layers is similar to Keras's and TFLearn's abstraction to layers, so it's easy to pickup.\n",
    "\n",
    ">However, if you would like to get the most out of this course, try to solve all the problems _without_ using anything from the TF Layers packages. You **can** still use classes from other packages that happen to have the same name as ones you find in TF Layers! For example, instead of using the TF Layers version of the `conv2d` class, [tf.layers.conv2d](https://www.tensorflow.org/api_docs/python/tf/layers/conv2d), you would want to use the TF Neural Network version of `conv2d`, [tf.nn.conv2d](https://www.tensorflow.org/api_docs/python/tf/nn/conv2d). \n",
    "\n",
    "Let's begin!\n",
    "\n",
    "### Input\n",
    "The neural network needs to read the image data, one-hot encoded labels, and dropout keep probability. Implement the following functions\n",
    "* Implement `neural_net_image_input`\n",
    " * Return a [TF Placeholder](https://www.tensorflow.org/api_docs/python/tf/placeholder)\n",
    " * Set the shape using `image_shape` with batch size set to `None`.\n",
    " * Name the TensorFlow placeholder \"x\" using the TensorFlow `name` parameter in the [TF Placeholder](https://www.tensorflow.org/api_docs/python/tf/placeholder).\n",
    "* Implement `neural_net_label_input`\n",
    " * Return a [TF Placeholder](https://www.tensorflow.org/api_docs/python/tf/placeholder)\n",
    " * Set the shape using `n_classes` with batch size set to `None`.\n",
    " * Name the TensorFlow placeholder \"y\" using the TensorFlow `name` parameter in the [TF Placeholder](https://www.tensorflow.org/api_docs/python/tf/placeholder).\n",
    "* Implement `neural_net_keep_prob_input`\n",
    " * Return a [TF Placeholder](https://www.tensorflow.org/api_docs/python/tf/placeholder) for dropout keep probability.\n",
    " * Name the TensorFlow placeholder \"keep_prob\" using the TensorFlow `name` parameter in the [TF Placeholder](https://www.tensorflow.org/api_docs/python/tf/placeholder).\n",
    "\n",
    "These names will be used at the end of the project to load your saved model.\n",
    "\n",
    "Note: `None` for shapes in TensorFlow allow for a dynamic size."
   ]
  },
  {
   "cell_type": "code",
   "execution_count": 52,
   "metadata": {},
   "outputs": [
    {
     "name": "stdout",
     "output_type": "stream",
     "text": [
      "Image Input Tests Passed.\n",
      "Label Input Tests Passed.\n",
      "Keep Prob Tests Passed.\n"
     ]
    }
   ],
   "source": [
    "import tensorflow as tf\n",
    "\n",
    "def neural_net_image_input(image_shape):\n",
    "    \"\"\"\n",
    "    Return a Tensor for a batch of image input\n",
    "    : image_shape: Shape of the images\n",
    "    : return: Tensor for image input.\n",
    "    \"\"\"\n",
    "    return tf.placeholder(tf.float32, [None, image_shape[0],image_shape[1],image_shape[2]], name='x')\n",
    "\n",
    "\n",
    "def neural_net_label_input(n_classes):\n",
    "    \"\"\"\n",
    "    Return a Tensor for a batch of label input\n",
    "    : n_classes: Number of classes\n",
    "    : return: Tensor for label input.\n",
    "    \"\"\"\n",
    "    return tf.placeholder(tf.float32, [None, n_classes], name='y')\n",
    "\n",
    "\n",
    "def neural_net_keep_prob_input():\n",
    "    \"\"\"\n",
    "    Return a Tensor for keep probability\n",
    "    : return: Tensor for keep probability.\n",
    "    \"\"\"\n",
    "    return tf.placeholder(tf.float32, name='keep_prob')\n",
    "\n",
    "\n",
    "\"\"\"\n",
    "DON'T MODIFY ANYTHING IN THIS CELL THAT IS BELOW THIS LINE\n",
    "\"\"\"\n",
    "tf.reset_default_graph()\n",
    "tests.test_nn_image_inputs(neural_net_image_input)\n",
    "tests.test_nn_label_inputs(neural_net_label_input)\n",
    "tests.test_nn_keep_prob_inputs(neural_net_keep_prob_input)"
   ]
  },
  {
   "cell_type": "markdown",
   "metadata": {},
   "source": [
    "### Convolution and Max Pooling Layer\n",
    "Convolution layers have a lot of success with images. For this code cell, you should implement the function `conv2d_maxpool` to apply convolution then max pooling:\n",
    "* Create the weight and bias using `conv_ksize`, `conv_num_outputs` and the shape of `x_tensor`.\n",
    "* Apply a convolution to `x_tensor` using weight and `conv_strides`.\n",
    " * We recommend you use same padding, but you're welcome to use any padding.\n",
    "* Add bias\n",
    "* Add a nonlinear activation to the convolution.\n",
    "* Apply Max Pooling using `pool_ksize` and `pool_strides`.\n",
    " * We recommend you use same padding, but you're welcome to use any padding.\n",
    "\n",
    "**Note:** You **can't** use [TensorFlow Layers](https://www.tensorflow.org/api_docs/python/tf/layers) or [TensorFlow Layers (contrib)](https://www.tensorflow.org/api_guides/python/contrib.layers) for **this** layer, but you can still use TensorFlow's [Neural Network](https://www.tensorflow.org/api_docs/python/tf/nn) package. You may still use the shortcut option for all the **other** layers.\n",
    "\n",
    "** Hint: **\n",
    "\n",
    "When unpacking values as an argument in Python, look into the [unpacking](https://docs.python.org/3/tutorial/controlflow.html#unpacking-argument-lists) operator. "
   ]
  },
  {
   "cell_type": "code",
   "execution_count": 53,
   "metadata": {},
   "outputs": [
    {
     "name": "stdout",
     "output_type": "stream",
     "text": [
      "Tests Passed\n"
     ]
    }
   ],
   "source": [
    "def conv2d_maxpool(x_tensor, conv_num_outputs, conv_ksize, conv_strides, pool_ksize, pool_strides):\n",
    "    \"\"\"\n",
    "    Apply convolution then max pooling to x_tensor\n",
    "    :param x_tensor: TensorFlow Tensor\n",
    "    :param conv_num_outputs: Number of outputs for the convolutional layer\n",
    "    :param conv_ksize: kernal size 2-D Tuple for the convolutional layer\n",
    "    :param conv_strides: Stride 2-D Tuple for convolution\n",
    "    :param pool_ksize: kernal size 2-D Tuple for pool\n",
    "    :param pool_strides: Stride 2-D Tuple for pool\n",
    "    : return: A tensor that represents convolution and max pooling of x_tensor\n",
    "    \"\"\"\n",
    "    weights = tf.Variable(tf.random_normal([conv_ksize[0],\n",
    "                                            conv_ksize[1], \n",
    "                                            x_tensor.get_shape().as_list()[3], \n",
    "                                            conv_num_outputs], stddev=0.1))\n",
    "    bias   = tf.Variable(tf.zeros(conv_num_outputs))\n",
    "    op_layer = tf.nn.conv2d(x_tensor, weights, strides=[1,\n",
    "                                                        conv_strides[0],\n",
    "                                                        conv_strides[1], 1], padding='SAME')\n",
    "    op_layer = tf.nn.bias_add(op_layer, bias)\n",
    "    op_layer = tf.nn.relu(op_layer)\n",
    "    op_layer = tf.nn.max_pool(op_layer, [1,\n",
    "                                         pool_ksize[0], \n",
    "                                         pool_ksize[1],\n",
    "                                         1], [1,\n",
    "                                              pool_strides[0], \n",
    "                                              pool_strides[1], \n",
    "                                              1], padding='SAME')\n",
    "    return op_layer \n",
    "\n",
    "\n",
    "\"\"\"\n",
    "DON'T MODIFY ANYTHING IN THIS CELL THAT IS BELOW THIS LINE\n",
    "\"\"\"\n",
    "tests.test_con_pool(conv2d_maxpool)"
   ]
  },
  {
   "cell_type": "markdown",
   "metadata": {},
   "source": [
    "### Flatten Layer\n",
    "Implement the `flatten` function to change the dimension of `x_tensor` from a 4-D tensor to a 2-D tensor.  The output should be the shape (*Batch Size*, *Flattened Image Size*). Shortcut option: you can use classes from the [TensorFlow Layers](https://www.tensorflow.org/api_docs/python/tf/layers) or [TensorFlow Layers (contrib)](https://www.tensorflow.org/api_guides/python/contrib.layers) packages for this layer. For more of a challenge, only use other TensorFlow packages."
   ]
  },
  {
   "cell_type": "code",
   "execution_count": 54,
   "metadata": {},
   "outputs": [
    {
     "name": "stdout",
     "output_type": "stream",
     "text": [
      "Tests Passed\n"
     ]
    }
   ],
   "source": [
    "def flatten(x_tensor):\n",
    "    \"\"\"\n",
    "    Flatten x_tensor to (Batch Size, Flattened Image Size)\n",
    "    : x_tensor: A tensor of size (Batch Size, ...), where ... are the image dimensions.\n",
    "    : return: A tensor of size (Batch Size, Flattened Image Size).\n",
    "    \"\"\"\n",
    "    return tf.contrib.layers.flatten(x_tensor)\n",
    "\n",
    "\"\"\"\n",
    "DON'T MODIFY ANYTHING IN THIS CELL THAT IS BELOW THIS LINE\n",
    "\"\"\"\n",
    "tests.test_flatten(flatten)"
   ]
  },
  {
   "cell_type": "markdown",
   "metadata": {},
   "source": [
    "### Fully-Connected Layer\n",
    "Implement the `fully_conn` function to apply a fully connected layer to `x_tensor` with the shape (*Batch Size*, *num_outputs*). Shortcut option: you can use classes from the [TensorFlow Layers](https://www.tensorflow.org/api_docs/python/tf/layers) or [TensorFlow Layers (contrib)](https://www.tensorflow.org/api_guides/python/contrib.layers) packages for this layer. For more of a challenge, only use other TensorFlow packages."
   ]
  },
  {
   "cell_type": "code",
   "execution_count": 55,
   "metadata": {},
   "outputs": [
    {
     "name": "stdout",
     "output_type": "stream",
     "text": [
      "Tests Passed\n"
     ]
    }
   ],
   "source": [
    "def fully_conn(x_tensor, num_outputs):\n",
    "    \"\"\"\n",
    "    Apply a fully connected layer to x_tensor using weight and bias\n",
    "    : x_tensor: A 2-D tensor where the first dimension is batch size.\n",
    "    : num_outputs: The number of output that the new tensor should be.\n",
    "    : return: A 2-D tensor where the second dimension is num_outputs.\n",
    "    \"\"\"\n",
    "    return tf.contrib.layers.fully_connected(x_tensor, num_outputs, tf.nn.relu)\n",
    "\n",
    "\"\"\"\n",
    "DON'T MODIFY ANYTHING IN THIS CELL THAT IS BELOW THIS LINE\n",
    "\"\"\"\n",
    "tests.test_fully_conn(fully_conn)"
   ]
  },
  {
   "cell_type": "markdown",
   "metadata": {},
   "source": [
    "### Output Layer\n",
    "Implement the `output` function to apply a fully connected layer to `x_tensor` with the shape (*Batch Size*, *num_outputs*). Shortcut option: you can use classes from the [TensorFlow Layers](https://www.tensorflow.org/api_docs/python/tf/layers) or [TensorFlow Layers (contrib)](https://www.tensorflow.org/api_guides/python/contrib.layers) packages for this layer. For more of a challenge, only use other TensorFlow packages.\n",
    "\n",
    "**Note:** Activation, softmax, or cross entropy should **not** be applied to this."
   ]
  },
  {
   "cell_type": "code",
   "execution_count": 56,
   "metadata": {},
   "outputs": [
    {
     "name": "stdout",
     "output_type": "stream",
     "text": [
      "Tests Passed\n"
     ]
    }
   ],
   "source": [
    "def output(x_tensor, num_outputs):\n",
    "    \"\"\"\n",
    "    Apply a output layer to x_tensor using weight and bias\n",
    "    : x_tensor: A 2-D tensor where the first dimension is batch size.\n",
    "    : num_outputs: The number of output that the new tensor should be.\n",
    "    : return: A 2-D tensor where the second dimension is num_outputs.\n",
    "    \"\"\"\n",
    "    return tf.contrib.layers.fully_connected(x_tensor, num_outputs)\n",
    "\n",
    "\"\"\"\n",
    "DON'T MODIFY ANYTHING IN THIS CELL THAT IS BELOW THIS LINE\n",
    "\"\"\"\n",
    "tests.test_output(output)"
   ]
  },
  {
   "cell_type": "markdown",
   "metadata": {},
   "source": [
    "### Create Convolutional Model\n",
    "Implement the function `conv_net` to create a convolutional neural network model. The function takes in a batch of images, `x`, and outputs logits.  Use the layers you created above to create this model:\n",
    "\n",
    "* Apply 1, 2, or 3 Convolution and Max Pool layers\n",
    "* Apply a Flatten Layer\n",
    "* Apply 1, 2, or 3 Fully Connected Layers\n",
    "* Apply an Output Layer\n",
    "* Return the output\n",
    "* Apply [TensorFlow's Dropout](https://www.tensorflow.org/api_docs/python/tf/nn/dropout) to one or more layers in the model using `keep_prob`. "
   ]
  },
  {
   "cell_type": "code",
   "execution_count": 57,
   "metadata": {},
   "outputs": [
    {
     "name": "stdout",
     "output_type": "stream",
     "text": [
      "Neural Network Built!\n"
     ]
    }
   ],
   "source": [
    "def conv_net(x, keep_prob):\n",
    "    \"\"\"\n",
    "    Create a convolutional neural network model\n",
    "    : x: Placeholder tensor that holds image data.\n",
    "    : keep_prob: Placeholder tensor that hold dropout keep probability.\n",
    "    : return: Tensor that represents logits\n",
    "    \"\"\"\n",
    "    # TODO: Apply 1, 2, or 3 Convolution and Max Pool layers\n",
    "    #    Play around with different number of outputs, kernel size and stride\n",
    "    # Function Definition from Above:\n",
    "    #    conv2d_maxpool(x_tensor, conv_num_outputs, conv_ksize, conv_strides, pool_ksize, pool_strides)\n",
    "    \n",
    "    layer_1 = conv2d_maxpool(x, 64, (8, 8), (4, 4), (4, 4), (2, 2))\n",
    "    layer_2 = conv2d_maxpool(layer_1, 64, (8, 8), (4, 4), (4, 4), (2, 2))\n",
    "    layer_3 = conv2d_maxpool(layer_2, 64, (8, 8), (4, 4), (4, 4), (2, 2))\n",
    "    \n",
    "\n",
    "    # TODO: Apply a Flatten Layer\n",
    "    # Function Definition from Above:\n",
    "    #   flatten(x_tensor)\n",
    "    tensor = flatten(layer_3)\n",
    "    tensor = tf.nn.dropout(tensor, keep_prob)\n",
    "\n",
    "    # TODO: Apply 1, 2, or 3 Fully Connected Layers\n",
    "    #    Play around with different number of outputs\n",
    "    # Function Definition from Above:\n",
    "    #   fully_conn(x_tensor, num_outputs)\n",
    "    tensor = fully_conn(tensor, 64)\n",
    "    tensor = tf.nn.dropout(tensor, keep_prob)\n",
    "    \n",
    "    # TODO: Apply an Output Layer\n",
    "    #    Set this to the number of classes\n",
    "    # Function Definition from Above:\n",
    "    #   output(x_tensor, num_outputs)\n",
    "    tensor = output(tensor, 10)\n",
    "    \n",
    "    # TODO: return output\n",
    "    return tensor\n",
    "\n",
    "\n",
    "\"\"\"\n",
    "DON'T MODIFY ANYTHING IN THIS CELL THAT IS BELOW THIS LINE\n",
    "\"\"\"\n",
    "\n",
    "##############################\n",
    "## Build the Neural Network ##\n",
    "##############################\n",
    "\n",
    "# Remove previous weights, bias, inputs, etc..\n",
    "tf.reset_default_graph()\n",
    "\n",
    "# Inputs\n",
    "x = neural_net_image_input((32, 32, 3))\n",
    "y = neural_net_label_input(10)\n",
    "keep_prob = neural_net_keep_prob_input()\n",
    "\n",
    "# Model\n",
    "logits = conv_net(x, keep_prob)\n",
    "\n",
    "# Name logits Tensor, so that is can be loaded from disk after training\n",
    "logits = tf.identity(logits, name='logits')\n",
    "\n",
    "# Loss and Optimizer\n",
    "cost = tf.reduce_mean(tf.nn.softmax_cross_entropy_with_logits(logits=logits, labels=y))\n",
    "optimizer = tf.train.AdamOptimizer().minimize(cost)\n",
    "\n",
    "# Accuracy\n",
    "correct_pred = tf.equal(tf.argmax(logits, 1), tf.argmax(y, 1))\n",
    "accuracy = tf.reduce_mean(tf.cast(correct_pred, tf.float32), name='accuracy')\n",
    "\n",
    "tests.test_conv_net(conv_net)"
   ]
  },
  {
   "cell_type": "markdown",
   "metadata": {},
   "source": [
    "## Train the Neural Network\n",
    "### Single Optimization\n",
    "Implement the function `train_neural_network` to do a single optimization.  The optimization should use `optimizer` to optimize in `session` with a `feed_dict` of the following:\n",
    "* `x` for image input\n",
    "* `y` for labels\n",
    "* `keep_prob` for keep probability for dropout\n",
    "\n",
    "This function will be called for each batch, so `tf.global_variables_initializer()` has already been called.\n",
    "\n",
    "Note: Nothing needs to be returned. This function is only optimizing the neural network."
   ]
  },
  {
   "cell_type": "code",
   "execution_count": 30,
   "metadata": {},
   "outputs": [
    {
     "name": "stdout",
     "output_type": "stream",
     "text": [
      "Tests Passed\n"
     ]
    }
   ],
   "source": [
    "def train_neural_network(session, optimizer, keep_probability, feature_batch, label_batch):\n",
    "    \"\"\"\n",
    "    Optimize the session on a batch of images and labels\n",
    "    : session: Current TensorFlow session\n",
    "    : optimizer: TensorFlow optimizer function\n",
    "    : keep_probability: keep probability\n",
    "    : feature_batch: Batch of Numpy image data\n",
    "    : label_batch: Batch of Numpy label data\n",
    "    \"\"\"\n",
    "    session.run(optimizer, feed_dict={x: feature_batch, \n",
    "                                      y: label_batch, \n",
    "                                      keep_prob: keep_probability})\n",
    "    pass\n",
    "\n",
    "\n",
    "\"\"\"\n",
    "DON'T MODIFY ANYTHING IN THIS CELL THAT IS BELOW THIS LINE\n",
    "\"\"\"\n",
    "tests.test_train_nn(train_neural_network)"
   ]
  },
  {
   "cell_type": "markdown",
   "metadata": {},
   "source": [
    "### Show Stats\n",
    "Implement the function `print_stats` to print loss and validation accuracy.  Use the global variables `valid_features` and `valid_labels` to calculate validation accuracy.  Use a keep probability of `1.0` to calculate the loss and validation accuracy."
   ]
  },
  {
   "cell_type": "code",
   "execution_count": 31,
   "metadata": {},
   "outputs": [],
   "source": [
    "def print_stats(session, feature_batch, label_batch, cost, accuracy):\n",
    "    \"\"\"\n",
    "    Print information about loss and validation accuracy\n",
    "    : session: Current TensorFlow session\n",
    "    : feature_batch: Batch of Numpy image data\n",
    "    : label_batch: Batch of Numpy label data\n",
    "    : cost: TensorFlow cost function\n",
    "    : accuracy: TensorFlow accuracy function\n",
    "    \"\"\"\n",
    "    loss = session.run(cost, feed_dict={x:feature_batch, \n",
    "                                        y:label_batch,\n",
    "                                        keep_prob:1.0}) \n",
    "    valid_accuracy = session.run(accuracy, \n",
    "                feed_dict={x:valid_features, \n",
    "                           y:valid_labels, \n",
    "                           keep_prob:1.0})\n",
    "    print('Loss = ',str(loss),'Validation Accuracy = ',str(valid_accuracy*100),'%')\n",
    "    \n",
    "    pass"
   ]
  },
  {
   "cell_type": "markdown",
   "metadata": {},
   "source": [
    "### Hyperparameters\n",
    "Tune the following parameters:\n",
    "* Set `epochs` to the number of iterations until the network stops learning or start overfitting\n",
    "* Set `batch_size` to the highest number that your machine has memory for.  Most people set them to common sizes of memory:\n",
    " * 64\n",
    " * 128\n",
    " * 256\n",
    " * ...\n",
    "* Set `keep_probability` to the probability of keeping a node using dropout"
   ]
  },
  {
   "cell_type": "code",
   "execution_count": 68,
   "metadata": {},
   "outputs": [],
   "source": [
    "# TODO: Tune Parameters\n",
    "epochs = 20\n",
    "batch_size = 128\n",
    "keep_probability = 0.8"
   ]
  },
  {
   "cell_type": "markdown",
   "metadata": {},
   "source": [
    "### Train on a Single CIFAR-10 Batch\n",
    "Instead of training the neural network on all the CIFAR-10 batches of data, let's use a single batch. This should save time while you iterate on the model to get a better accuracy.  Once the final validation accuracy is 50% or greater, run the model on all the data in the next section."
   ]
  },
  {
   "cell_type": "code",
   "execution_count": 69,
   "metadata": {
    "scrolled": true
   },
   "outputs": [
    {
     "name": "stdout",
     "output_type": "stream",
     "text": [
      "Checking the Training on a Single Batch...\n",
      "Epoch  1, CIFAR-10 Batch 1:  Loss =  2.1531227 Validation Accuracy =  26.85999870300293 %\n",
      "Epoch  2, CIFAR-10 Batch 1:  Loss =  2.0259697 Validation Accuracy =  36.559998989105225 %\n",
      "Epoch  3, CIFAR-10 Batch 1:  Loss =  1.9019665 Validation Accuracy =  37.65999972820282 %\n",
      "Epoch  4, CIFAR-10 Batch 1:  Loss =  1.6734238 Validation Accuracy =  40.139999985694885 %\n",
      "Epoch  5, CIFAR-10 Batch 1:  Loss =  1.5874895 Validation Accuracy =  42.53999888896942 %\n",
      "Epoch  6, CIFAR-10 Batch 1:  Loss =  1.4622631 Validation Accuracy =  43.939998745918274 %\n",
      "Epoch  7, CIFAR-10 Batch 1:  Loss =  1.4489706 Validation Accuracy =  45.579999685287476 %\n",
      "Epoch  8, CIFAR-10 Batch 1:  Loss =  1.4581505 Validation Accuracy =  45.33999860286713 %\n",
      "Epoch  9, CIFAR-10 Batch 1:  Loss =  1.2758677 Validation Accuracy =  47.72000014781952 %\n",
      "Epoch 10, CIFAR-10 Batch 1:  Loss =  1.2154582 Validation Accuracy =  47.760000824928284 %\n",
      "Epoch 11, CIFAR-10 Batch 1:  Loss =  1.1794927 Validation Accuracy =  49.50000047683716 %\n",
      "Epoch 12, CIFAR-10 Batch 1:  Loss =  1.13043 Validation Accuracy =  48.44000041484833 %\n",
      "Epoch 13, CIFAR-10 Batch 1:  Loss =  1.0145737 Validation Accuracy =  50.6600022315979 %\n",
      "Epoch 14, CIFAR-10 Batch 1:  Loss =  0.95766526 Validation Accuracy =  49.3800014257431 %\n",
      "Epoch 15, CIFAR-10 Batch 1:  Loss =  0.90178424 Validation Accuracy =  50.49999952316284 %\n",
      "Epoch 16, CIFAR-10 Batch 1:  Loss =  0.8740446 Validation Accuracy =  49.84000027179718 %\n",
      "Epoch 17, CIFAR-10 Batch 1:  Loss =  0.81986696 Validation Accuracy =  50.34000277519226 %\n",
      "Epoch 18, CIFAR-10 Batch 1:  Loss =  0.75360745 Validation Accuracy =  50.52000284194946 %\n",
      "Epoch 19, CIFAR-10 Batch 1:  Loss =  0.7354962 Validation Accuracy =  51.80000066757202 %\n",
      "Epoch 20, CIFAR-10 Batch 1:  Loss =  0.7198698 Validation Accuracy =  51.239997148513794 %\n"
     ]
    }
   ],
   "source": [
    "\"\"\"\n",
    "DON'T MODIFY ANYTHING IN THIS CELL\n",
    "\"\"\"\n",
    "print('Checking the Training on a Single Batch...')\n",
    "with tf.Session() as sess:\n",
    "    # Initializing the variables\n",
    "    sess.run(tf.global_variables_initializer())\n",
    "    \n",
    "    # Training cycle\n",
    "    for epoch in range(epochs):\n",
    "        batch_i = 1\n",
    "        for batch_features, batch_labels in helper.load_preprocess_training_batch(batch_i, batch_size):\n",
    "            train_neural_network(sess, optimizer, keep_probability, batch_features, batch_labels)\n",
    "        print('Epoch {:>2}, CIFAR-10 Batch {}:  '.format(epoch + 1, batch_i), end='')\n",
    "        print_stats(sess, batch_features, batch_labels, cost, accuracy)"
   ]
  },
  {
   "cell_type": "markdown",
   "metadata": {},
   "source": [
    "### Fully Train the Model\n",
    "Now that you got a good accuracy with a single CIFAR-10 batch, try it with all five batches."
   ]
  },
  {
   "cell_type": "code",
   "execution_count": 70,
   "metadata": {},
   "outputs": [
    {
     "name": "stdout",
     "output_type": "stream",
     "text": [
      "Training...\n",
      "Epoch  1, CIFAR-10 Batch 1:  Loss =  2.2071214 Validation Accuracy =  26.179999113082886 %\n",
      "Epoch  1, CIFAR-10 Batch 2:  Loss =  2.035694 Validation Accuracy =  32.51999914646149 %\n",
      "Epoch  1, CIFAR-10 Batch 3:  Loss =  1.6655174 Validation Accuracy =  38.440001010894775 %\n",
      "Epoch  1, CIFAR-10 Batch 4:  Loss =  1.7481892 Validation Accuracy =  39.5799994468689 %\n",
      "Epoch  1, CIFAR-10 Batch 5:  Loss =  1.6313232 Validation Accuracy =  42.75999963283539 %\n",
      "Epoch  2, CIFAR-10 Batch 1:  Loss =  1.794529 Validation Accuracy =  43.8400000333786 %\n",
      "Epoch  2, CIFAR-10 Batch 2:  Loss =  1.7092354 Validation Accuracy =  44.85999941825867 %\n",
      "Epoch  2, CIFAR-10 Batch 3:  Loss =  1.3644707 Validation Accuracy =  46.560001373291016 %\n",
      "Epoch  2, CIFAR-10 Batch 4:  Loss =  1.4800191 Validation Accuracy =  46.90000116825104 %\n",
      "Epoch  2, CIFAR-10 Batch 5:  Loss =  1.5013132 Validation Accuracy =  48.69999885559082 %\n",
      "Epoch  3, CIFAR-10 Batch 1:  Loss =  1.60558 Validation Accuracy =  48.980000615119934 %\n",
      "Epoch  3, CIFAR-10 Batch 2:  Loss =  1.4924756 Validation Accuracy =  45.68000137805939 %\n",
      "Epoch  3, CIFAR-10 Batch 3:  Loss =  1.232081 Validation Accuracy =  49.000000953674316 %\n",
      "Epoch  3, CIFAR-10 Batch 4:  Loss =  1.3740124 Validation Accuracy =  51.21999979019165 %\n",
      "Epoch  3, CIFAR-10 Batch 5:  Loss =  1.3768342 Validation Accuracy =  50.120002031326294 %\n",
      "Epoch  4, CIFAR-10 Batch 1:  Loss =  1.3831267 Validation Accuracy =  51.99999809265137 %\n",
      "Epoch  4, CIFAR-10 Batch 2:  Loss =  1.3512105 Validation Accuracy =  52.28000283241272 %\n",
      "Epoch  4, CIFAR-10 Batch 3:  Loss =  1.10725 Validation Accuracy =  50.81999897956848 %\n",
      "Epoch  4, CIFAR-10 Batch 4:  Loss =  1.300649 Validation Accuracy =  52.85999774932861 %\n",
      "Epoch  4, CIFAR-10 Batch 5:  Loss =  1.2614714 Validation Accuracy =  52.81999707221985 %\n",
      "Epoch  5, CIFAR-10 Batch 1:  Loss =  1.3211615 Validation Accuracy =  53.02000045776367 %\n",
      "Epoch  5, CIFAR-10 Batch 2:  Loss =  1.2307503 Validation Accuracy =  53.759998083114624 %\n",
      "Epoch  5, CIFAR-10 Batch 3:  Loss =  1.0017287 Validation Accuracy =  53.65999937057495 %\n",
      "Epoch  5, CIFAR-10 Batch 4:  Loss =  1.19555 Validation Accuracy =  55.04000186920166 %\n",
      "Epoch  5, CIFAR-10 Batch 5:  Loss =  1.1908662 Validation Accuracy =  52.38000154495239 %\n",
      "Epoch  6, CIFAR-10 Batch 1:  Loss =  1.2114986 Validation Accuracy =  53.74000072479248 %\n",
      "Epoch  6, CIFAR-10 Batch 2:  Loss =  1.1307043 Validation Accuracy =  54.14000153541565 %\n",
      "Epoch  6, CIFAR-10 Batch 3:  Loss =  0.9404079 Validation Accuracy =  55.080002546310425 %\n",
      "Epoch  6, CIFAR-10 Batch 4:  Loss =  1.1809437 Validation Accuracy =  55.19999861717224 %\n",
      "Epoch  6, CIFAR-10 Batch 5:  Loss =  1.030673 Validation Accuracy =  55.77999949455261 %\n",
      "Epoch  7, CIFAR-10 Batch 1:  Loss =  1.1018317 Validation Accuracy =  56.76000118255615 %\n",
      "Epoch  7, CIFAR-10 Batch 2:  Loss =  0.9974743 Validation Accuracy =  55.5400013923645 %\n",
      "Epoch  7, CIFAR-10 Batch 3:  Loss =  0.86329305 Validation Accuracy =  56.37999773025513 %\n",
      "Epoch  7, CIFAR-10 Batch 4:  Loss =  1.0821114 Validation Accuracy =  56.00000023841858 %\n",
      "Epoch  7, CIFAR-10 Batch 5:  Loss =  0.9937765 Validation Accuracy =  56.779998540878296 %\n",
      "Epoch  8, CIFAR-10 Batch 1:  Loss =  1.0365924 Validation Accuracy =  56.98000192642212 %\n",
      "Epoch  8, CIFAR-10 Batch 2:  Loss =  0.9771532 Validation Accuracy =  55.83999752998352 %\n",
      "Epoch  8, CIFAR-10 Batch 3:  Loss =  0.86636746 Validation Accuracy =  55.91999888420105 %\n",
      "Epoch  8, CIFAR-10 Batch 4:  Loss =  1.0379517 Validation Accuracy =  58.53999853134155 %\n",
      "Epoch  8, CIFAR-10 Batch 5:  Loss =  0.8910246 Validation Accuracy =  56.519997119903564 %\n",
      "Epoch  9, CIFAR-10 Batch 1:  Loss =  1.0330089 Validation Accuracy =  56.01999759674072 %\n",
      "Epoch  9, CIFAR-10 Batch 2:  Loss =  0.905114 Validation Accuracy =  56.23999834060669 %\n",
      "Epoch  9, CIFAR-10 Batch 3:  Loss =  0.80645597 Validation Accuracy =  56.99999928474426 %\n",
      "Epoch  9, CIFAR-10 Batch 4:  Loss =  0.98966587 Validation Accuracy =  56.58000111579895 %\n",
      "Epoch  9, CIFAR-10 Batch 5:  Loss =  0.8792337 Validation Accuracy =  57.45999813079834 %\n",
      "Epoch 10, CIFAR-10 Batch 1:  Loss =  0.9488742 Validation Accuracy =  57.53999948501587 %\n",
      "Epoch 10, CIFAR-10 Batch 2:  Loss =  0.8891798 Validation Accuracy =  57.819998264312744 %\n",
      "Epoch 10, CIFAR-10 Batch 3:  Loss =  0.78429717 Validation Accuracy =  57.27999806404114 %\n",
      "Epoch 10, CIFAR-10 Batch 4:  Loss =  0.9098775 Validation Accuracy =  58.06000232696533 %\n",
      "Epoch 10, CIFAR-10 Batch 5:  Loss =  0.8163247 Validation Accuracy =  59.039998054504395 %\n",
      "Epoch 11, CIFAR-10 Batch 1:  Loss =  0.89318407 Validation Accuracy =  58.319997787475586 %\n",
      "Epoch 11, CIFAR-10 Batch 2:  Loss =  0.80024195 Validation Accuracy =  58.53999853134155 %\n",
      "Epoch 11, CIFAR-10 Batch 3:  Loss =  0.71821976 Validation Accuracy =  57.999998331069946 %\n",
      "Epoch 11, CIFAR-10 Batch 4:  Loss =  0.90359515 Validation Accuracy =  58.57999920845032 %\n",
      "Epoch 11, CIFAR-10 Batch 5:  Loss =  0.7681586 Validation Accuracy =  58.67999792098999 %\n",
      "Epoch 12, CIFAR-10 Batch 1:  Loss =  0.911685 Validation Accuracy =  56.55999779701233 %\n",
      "Epoch 12, CIFAR-10 Batch 2:  Loss =  0.83484876 Validation Accuracy =  58.30000042915344 %\n",
      "Epoch 12, CIFAR-10 Batch 3:  Loss =  0.70114195 Validation Accuracy =  59.32000279426575 %\n",
      "Epoch 12, CIFAR-10 Batch 4:  Loss =  0.86229813 Validation Accuracy =  58.61999988555908 %\n",
      "Epoch 12, CIFAR-10 Batch 5:  Loss =  0.7225025 Validation Accuracy =  58.75999927520752 %\n",
      "Epoch 13, CIFAR-10 Batch 1:  Loss =  0.83002025 Validation Accuracy =  58.480000495910645 %\n",
      "Epoch 13, CIFAR-10 Batch 2:  Loss =  0.7178831 Validation Accuracy =  58.17999839782715 %\n",
      "Epoch 13, CIFAR-10 Batch 3:  Loss =  0.68673486 Validation Accuracy =  58.53999853134155 %\n",
      "Epoch 13, CIFAR-10 Batch 4:  Loss =  0.81467116 Validation Accuracy =  59.92000102996826 %\n",
      "Epoch 13, CIFAR-10 Batch 5:  Loss =  0.68871063 Validation Accuracy =  60.29999852180481 %\n",
      "Epoch 14, CIFAR-10 Batch 1:  Loss =  0.8005525 Validation Accuracy =  58.980000019073486 %\n",
      "Epoch 14, CIFAR-10 Batch 2:  Loss =  0.7179404 Validation Accuracy =  59.82000231742859 %\n",
      "Epoch 14, CIFAR-10 Batch 3:  Loss =  0.65629363 Validation Accuracy =  58.480000495910645 %\n",
      "Epoch 14, CIFAR-10 Batch 4:  Loss =  0.819106 Validation Accuracy =  59.82000231742859 %\n",
      "Epoch 14, CIFAR-10 Batch 5:  Loss =  0.6766578 Validation Accuracy =  59.460002183914185 %\n",
      "Epoch 15, CIFAR-10 Batch 1:  Loss =  0.83487576 Validation Accuracy =  60.0600004196167 %\n",
      "Epoch 15, CIFAR-10 Batch 2:  Loss =  0.63086593 Validation Accuracy =  59.8800003528595 %\n",
      "Epoch 15, CIFAR-10 Batch 3:  Loss =  0.6417858 Validation Accuracy =  58.93999934196472 %\n",
      "Epoch 15, CIFAR-10 Batch 4:  Loss =  0.80777013 Validation Accuracy =  59.039998054504395 %\n",
      "Epoch 15, CIFAR-10 Batch 5:  Loss =  0.67816526 Validation Accuracy =  59.42000150680542 %\n",
      "Epoch 16, CIFAR-10 Batch 1:  Loss =  0.8157428 Validation Accuracy =  60.39999723434448 %\n",
      "Epoch 16, CIFAR-10 Batch 2:  Loss =  0.61371344 Validation Accuracy =  60.100001096725464 %\n",
      "Epoch 16, CIFAR-10 Batch 3:  Loss =  0.5942647 Validation Accuracy =  60.14000177383423 %\n",
      "Epoch 16, CIFAR-10 Batch 4:  Loss =  0.7913055 Validation Accuracy =  58.85999798774719 %\n",
      "Epoch 16, CIFAR-10 Batch 5:  Loss =  0.6725061 Validation Accuracy =  60.39999723434448 %\n",
      "Epoch 17, CIFAR-10 Batch 1:  Loss =  0.78146636 Validation Accuracy =  60.100001096725464 %\n",
      "Epoch 17, CIFAR-10 Batch 2:  Loss =  0.6178261 Validation Accuracy =  60.21999716758728 %\n",
      "Epoch 17, CIFAR-10 Batch 3:  Loss =  0.5704072 Validation Accuracy =  61.11999750137329 %\n",
      "Epoch 17, CIFAR-10 Batch 4:  Loss =  0.7248386 Validation Accuracy =  59.2199981212616 %\n",
      "Epoch 17, CIFAR-10 Batch 5:  Loss =  0.6559044 Validation Accuracy =  60.5400025844574 %\n",
      "Epoch 18, CIFAR-10 Batch 1:  Loss =  0.75323695 Validation Accuracy =  61.18000149726868 %\n",
      "Epoch 18, CIFAR-10 Batch 2:  Loss =  0.5715238 Validation Accuracy =  59.74000096321106 %\n",
      "Epoch 18, CIFAR-10 Batch 3:  Loss =  0.561929 Validation Accuracy =  60.19999980926514 %\n",
      "Epoch 18, CIFAR-10 Batch 4:  Loss =  0.7184473 Validation Accuracy =  60.5400025844574 %\n",
      "Epoch 18, CIFAR-10 Batch 5:  Loss =  0.62171316 Validation Accuracy =  60.280001163482666 %\n",
      "Epoch 19, CIFAR-10 Batch 1:  Loss =  0.73551327 Validation Accuracy =  61.61999702453613 %\n"
     ]
    },
    {
     "name": "stdout",
     "output_type": "stream",
     "text": [
      "Epoch 19, CIFAR-10 Batch 2:  Loss =  0.6008946 Validation Accuracy =  61.76000237464905 %\n",
      "Epoch 19, CIFAR-10 Batch 3:  Loss =  0.57004374 Validation Accuracy =  59.539997577667236 %\n",
      "Epoch 19, CIFAR-10 Batch 4:  Loss =  0.6788524 Validation Accuracy =  60.15999913215637 %\n",
      "Epoch 19, CIFAR-10 Batch 5:  Loss =  0.5932293 Validation Accuracy =  60.019999742507935 %\n",
      "Epoch 20, CIFAR-10 Batch 1:  Loss =  0.7464933 Validation Accuracy =  61.6599977016449 %\n",
      "Epoch 20, CIFAR-10 Batch 2:  Loss =  0.583407 Validation Accuracy =  59.7599983215332 %\n",
      "Epoch 20, CIFAR-10 Batch 3:  Loss =  0.49888158 Validation Accuracy =  61.05999946594238 %\n",
      "Epoch 20, CIFAR-10 Batch 4:  Loss =  0.7108672 Validation Accuracy =  59.380000829696655 %\n",
      "Epoch 20, CIFAR-10 Batch 5:  Loss =  0.6045457 Validation Accuracy =  61.10000014305115 %\n"
     ]
    }
   ],
   "source": [
    "\"\"\"\n",
    "DON'T MODIFY ANYTHING IN THIS CELL\n",
    "\"\"\"\n",
    "save_model_path = './image_classification'\n",
    "\n",
    "print('Training...')\n",
    "with tf.Session() as sess:\n",
    "    # Initializing the variables\n",
    "    sess.run(tf.global_variables_initializer())\n",
    "    \n",
    "    # Training cycle\n",
    "    for epoch in range(epochs):\n",
    "        # Loop over all batches\n",
    "        n_batches = 5\n",
    "        for batch_i in range(1, n_batches + 1):\n",
    "            for batch_features, batch_labels in helper.load_preprocess_training_batch(batch_i, batch_size):\n",
    "                train_neural_network(sess, optimizer, keep_probability, batch_features, batch_labels)\n",
    "            print('Epoch {:>2}, CIFAR-10 Batch {}:  '.format(epoch + 1, batch_i), end='')\n",
    "            print_stats(sess, batch_features, batch_labels, cost, accuracy)\n",
    "            \n",
    "    # Save Model\n",
    "    saver = tf.train.Saver()\n",
    "    save_path = saver.save(sess, save_model_path)"
   ]
  },
  {
   "cell_type": "markdown",
   "metadata": {},
   "source": [
    "# Checkpoint\n",
    "The model has been saved to disk.\n",
    "## Test Model\n",
    "Test your model against the test dataset.  This will be your final accuracy. You should have an accuracy greater than 50%. If you don't, keep tweaking the model architecture and parameters."
   ]
  },
  {
   "cell_type": "code",
   "execution_count": 71,
   "metadata": {},
   "outputs": [
    {
     "name": "stdout",
     "output_type": "stream",
     "text": [
      "INFO:tensorflow:Restoring parameters from ./image_classification\n",
      "Testing Accuracy: 0.6083860759493671\n",
      "\n"
     ]
    },
    {
     "data": {
      "image/png": "[encoded data removed]",
      "text/plain": [
       "<Figure size 432x288 with 8 Axes>"
      ]
     },
     "metadata": {
      "image/png": {
       "height": 319,
       "width": 355
      }
     },
     "output_type": "display_data"
    }
   ],
   "source": [
    "\"\"\"\n",
    "DON'T MODIFY ANYTHING IN THIS CELL\n",
    "\"\"\"\n",
    "%matplotlib inline\n",
    "%config InlineBackend.figure_format = 'retina'\n",
    "\n",
    "import tensorflow as tf\n",
    "import pickle\n",
    "import helper\n",
    "import random\n",
    "\n",
    "# Set batch size if not already set\n",
    "try:\n",
    "    if batch_size:\n",
    "        pass\n",
    "except NameError:\n",
    "    batch_size = 64\n",
    "\n",
    "save_model_path = './image_classification'\n",
    "n_samples = 4\n",
    "top_n_predictions = 3\n",
    "\n",
    "def test_model():\n",
    "    \"\"\"\n",
    "    Test the saved model against the test dataset\n",
    "    \"\"\"\n",
    "\n",
    "    test_features, test_labels = pickle.load(open('preprocess_training.p', mode='rb'))\n",
    "    loaded_graph = tf.Graph()\n",
    "\n",
    "    with tf.Session(graph=loaded_graph) as sess:\n",
    "        # Load model\n",
    "        loader = tf.train.import_meta_graph(save_model_path + '.meta')\n",
    "        loader.restore(sess, save_model_path)\n",
    "\n",
    "        # Get Tensors from loaded model\n",
    "        loaded_x = loaded_graph.get_tensor_by_name('x:0')\n",
    "        loaded_y = loaded_graph.get_tensor_by_name('y:0')\n",
    "        loaded_keep_prob = loaded_graph.get_tensor_by_name('keep_prob:0')\n",
    "        loaded_logits = loaded_graph.get_tensor_by_name('logits:0')\n",
    "        loaded_acc = loaded_graph.get_tensor_by_name('accuracy:0')\n",
    "        \n",
    "        # Get accuracy in batches for memory limitations\n",
    "        test_batch_acc_total = 0\n",
    "        test_batch_count = 0\n",
    "        \n",
    "        for train_feature_batch, train_label_batch in helper.batch_features_labels(test_features, test_labels, batch_size):\n",
    "            test_batch_acc_total += sess.run(\n",
    "                loaded_acc,\n",
    "                feed_dict={loaded_x: train_feature_batch, loaded_y: train_label_batch, loaded_keep_prob: 1.0})\n",
    "            test_batch_count += 1\n",
    "\n",
    "        print('Testing Accuracy: {}\\n'.format(test_batch_acc_total/test_batch_count))\n",
    "\n",
    "        # Print Random Samples\n",
    "        random_test_features, random_test_labels = tuple(zip(*random.sample(list(zip(test_features, test_labels)), n_samples)))\n",
    "        random_test_predictions = sess.run(\n",
    "            tf.nn.top_k(tf.nn.softmax(loaded_logits), top_n_predictions),\n",
    "            feed_dict={loaded_x: random_test_features, loaded_y: random_test_labels, loaded_keep_prob: 1.0})\n",
    "        helper.display_image_predictions(random_test_features, random_test_labels, random_test_predictions)\n",
    "\n",
    "\n",
    "test_model()"
   ]
  },
  {
   "cell_type": "markdown",
   "metadata": {},
   "source": [
    "## Why 50-80% Accuracy?\n",
    "You might be wondering why you can't get an accuracy any higher. First things first, 50% isn't bad for a simple CNN.  Pure guessing would get you 10% accuracy. That's because there are many more techniques that can be applied to your model and we recemmond that once you are done with this project, you explore!\n",
    "\n",
    "## Submitting This Project\n",
    "When submitting this project, make sure to run all the cells before saving the notebook.  Save the notebook file as \"image_classification.ipynb\" and save it as a HTML file under \"File\" -> \"Download as\".  Include the \"helper.py\" and \"problem_unittests.py\" files in your submission."
   ]
  }
 ],
 "metadata": {
  "kernelspec": {
   "display_name": "Python 3",
   "language": "python",
   "name": "python3"
  },
  "language_info": {
   "codemirror_mode": {
    "name": "ipython",
    "version": 3
   },
   "file_extension": ".py",
   "mimetype": "text/x-python",
   "name": "python",
   "nbconvert_exporter": "python",
   "pygments_lexer": "ipython3",
   "version": "3.5.5"
  }
 },
 "nbformat": 4,
 "nbformat_minor": 1
}
